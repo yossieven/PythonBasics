{
 "cells": [
  {
   "cell_type": "code",
   "execution_count": 15,
   "metadata": {},
   "outputs": [
    {
     "data": {
      "text/plain": "   ID                                            Address           City  \\\n0   1         3666 21st St, San Francisco, CA 94114, USA  San Francisco   \n1   2       735 Dolores St, San Francisco, CA 94119, USA  San Francisco   \n2   3  332 Hill St, San Francisco, California 94114, USA  San Francisco   \n3   4         3995 23rd St, San Francisco, CA 94114, USA  San Francisco   \n4   5    1056 Sanchez St, San Francisco, California, USA  San Francisco   \n5   6      551 Alvarado St, San Francisco, CA 94114, USA  San Francisco   \n\n              State Country         Name  Employees  \\\n0          CA 94114     USA      Madeira          8   \n1          CA 94119     USA  Bready Shop         15   \n2  California 94114     USA  Super River         25   \n3          CA 94114     USA   Ben's Shop         10   \n4        California     USA      Sanchez         12   \n5          CA 94114     USA   Richvalley         20   \n\n                                         Coordinates   Latitude   Longitude  \n0  (3666 21st St, San Francisco, California, 9411...  37.756450 -122.429364  \n1  (735 Dolores St, San Francisco, California, 94...  37.757796 -122.425597  \n2  (332 Hill St, San Francisco, California, 94114...  37.755648 -122.428803  \n3  (3995 23rd St, San Francisco, California, 9411...  37.752991 -122.431702  \n4  (1056 Sanchez St, San Francisco, California, 9...  37.752129 -122.430028  \n5  (551 Alvarado St, San Francisco, California, 9...  37.753719 -122.433240  ",
      "text/html": "<div>\n<style scoped>\n    .dataframe tbody tr th:only-of-type {\n        vertical-align: middle;\n    }\n\n    .dataframe tbody tr th {\n        vertical-align: top;\n    }\n\n    .dataframe thead th {\n        text-align: right;\n    }\n</style>\n<table border=\"1\" class=\"dataframe\">\n  <thead>\n    <tr style=\"text-align: right;\">\n      <th></th>\n      <th>ID</th>\n      <th>Address</th>\n      <th>City</th>\n      <th>State</th>\n      <th>Country</th>\n      <th>Name</th>\n      <th>Employees</th>\n      <th>Coordinates</th>\n      <th>Latitude</th>\n      <th>Longitude</th>\n    </tr>\n  </thead>\n  <tbody>\n    <tr>\n      <th>0</th>\n      <td>1</td>\n      <td>3666 21st St, San Francisco, CA 94114, USA</td>\n      <td>San Francisco</td>\n      <td>CA 94114</td>\n      <td>USA</td>\n      <td>Madeira</td>\n      <td>8</td>\n      <td>(3666 21st St, San Francisco, California, 9411...</td>\n      <td>37.756450</td>\n      <td>-122.429364</td>\n    </tr>\n    <tr>\n      <th>1</th>\n      <td>2</td>\n      <td>735 Dolores St, San Francisco, CA 94119, USA</td>\n      <td>San Francisco</td>\n      <td>CA 94119</td>\n      <td>USA</td>\n      <td>Bready Shop</td>\n      <td>15</td>\n      <td>(735 Dolores St, San Francisco, California, 94...</td>\n      <td>37.757796</td>\n      <td>-122.425597</td>\n    </tr>\n    <tr>\n      <th>2</th>\n      <td>3</td>\n      <td>332 Hill St, San Francisco, California 94114, USA</td>\n      <td>San Francisco</td>\n      <td>California 94114</td>\n      <td>USA</td>\n      <td>Super River</td>\n      <td>25</td>\n      <td>(332 Hill St, San Francisco, California, 94114...</td>\n      <td>37.755648</td>\n      <td>-122.428803</td>\n    </tr>\n    <tr>\n      <th>3</th>\n      <td>4</td>\n      <td>3995 23rd St, San Francisco, CA 94114, USA</td>\n      <td>San Francisco</td>\n      <td>CA 94114</td>\n      <td>USA</td>\n      <td>Ben's Shop</td>\n      <td>10</td>\n      <td>(3995 23rd St, San Francisco, California, 9411...</td>\n      <td>37.752991</td>\n      <td>-122.431702</td>\n    </tr>\n    <tr>\n      <th>4</th>\n      <td>5</td>\n      <td>1056 Sanchez St, San Francisco, California, USA</td>\n      <td>San Francisco</td>\n      <td>California</td>\n      <td>USA</td>\n      <td>Sanchez</td>\n      <td>12</td>\n      <td>(1056 Sanchez St, San Francisco, California, 9...</td>\n      <td>37.752129</td>\n      <td>-122.430028</td>\n    </tr>\n    <tr>\n      <th>5</th>\n      <td>6</td>\n      <td>551 Alvarado St, San Francisco, CA 94114, USA</td>\n      <td>San Francisco</td>\n      <td>CA 94114</td>\n      <td>USA</td>\n      <td>Richvalley</td>\n      <td>20</td>\n      <td>(551 Alvarado St, San Francisco, California, 9...</td>\n      <td>37.753719</td>\n      <td>-122.433240</td>\n    </tr>\n  </tbody>\n</table>\n</div>"
     },
     "execution_count": 15,
     "metadata": {},
     "output_type": "execute_result"
    }
   ],
   "source": [
    "import pandas\n",
    "from geopy.geocoders import ArcGIS\n",
    "\n",
    "df=pandas.read_csv(\"supermarkets.csv\")\n",
    "df[\"Address\"]=df[\"Address\"]+\", \"+df[\"City\"]+\", \"+df[\"State\"]+\", \"+df[\"Country\"]\n",
    "arc=ArcGIS()\n",
    "address=arc.geocode((\"3995 23rd St, San Francisco, CA 94114\"))\n",
    "\n",
    "df[\"Coordinates\"]=df[\"Address\"].apply(arc.geocode)\n",
    "df[\"Latitude\"]=df[\"Coordinates\"].apply(lambda x: x.latitude if x is not None else None)\n",
    "df[\"Longitude\"]=df[\"Coordinates\"].apply(lambda x: x.longitude if x is not None else None)\n",
    "df"
   ]
  }
 ],
 "metadata": {
  "kernelspec": {
   "display_name": "Python 3",
   "language": "python",
   "name": "python3"
  },
  "language_info": {
   "codemirror_mode": {
    "name": "ipython",
    "version": 3
   },
   "file_extension": ".py",
   "mimetype": "text/x-python",
   "name": "python",
   "nbconvert_exporter": "python",
   "pygments_lexer": "ipython3",
   "version": "3.8.3"
  }
 },
 "nbformat": 4,
 "nbformat_minor": 4
}